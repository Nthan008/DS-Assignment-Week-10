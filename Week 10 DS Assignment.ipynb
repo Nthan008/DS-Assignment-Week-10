{
 "cells": [
  {
   "cell_type": "code",
   "execution_count": 1,
   "id": "4c77ea32",
   "metadata": {},
   "outputs": [],
   "source": [
    "import pandas as pd\n",
    "from math import sqrt\n",
    "import numpy as np"
   ]
  },
  {
   "cell_type": "code",
   "execution_count": 2,
   "id": "05da91a9",
   "metadata": {},
   "outputs": [
    {
     "name": "stdout",
     "output_type": "stream",
     "text": [
      "<class 'pandas.core.frame.DataFrame'>\n",
      "RangeIndex: 9742 entries, 0 to 9741\n",
      "Data columns (total 3 columns):\n",
      " #   Column   Non-Null Count  Dtype \n",
      "---  ------   --------------  ----- \n",
      " 0   movieId  9742 non-null   int64 \n",
      " 1   title    9742 non-null   object\n",
      " 2   genres   9742 non-null   object\n",
      "dtypes: int64(1), object(2)\n",
      "memory usage: 228.5+ KB\n",
      "None\n"
     ]
    }
   ],
   "source": [
    "movies_df = pd.read_csv('movies.csv')\n",
    "ratings_df = pd.read_csv('ratings.csv')\n",
    "print(movies_df.info())"
   ]
  },
  {
   "cell_type": "code",
   "execution_count": 3,
   "id": "359d07b1",
   "metadata": {},
   "outputs": [
    {
     "name": "stdout",
     "output_type": "stream",
     "text": [
      "                             title  rating\n",
      "0                   Jumanji (1995)     2.0\n",
      "1                 Toy Story (1995)     1.0\n",
      "2                 GoldenEye (1995)     3.0\n",
      "3  Barney's Great Adventure (1998)     5.0\n",
      "4                     Akira (1988)     4.5\n"
     ]
    }
   ],
   "source": [
    "userInput = [{'title':'Jumanji (1995)', 'rating':2},\n",
    "             {'title':'Toy Story (1995)', 'rating':1},\n",
    "             {'title':'GoldenEye (1995)', 'rating':3},\n",
    "             {'title':\"Barney's Great Adventure (1998)\", 'rating':5},\n",
    "             {'title':'Akira (1988)', 'rating':4.5}]\n",
    "inputMovies = pd.DataFrame(userInput)\n",
    "print(inputMovies)"
   ]
  },
  {
   "cell_type": "code",
   "execution_count": 4,
   "id": "c891db81",
   "metadata": {},
   "outputs": [
    {
     "name": "stdout",
     "output_type": "stream",
     "text": [
      "   movieId                            title  rating\n",
      "0        1                 Toy Story (1995)     1.0\n",
      "1        2                   Jumanji (1995)     2.0\n",
      "2       10                 GoldenEye (1995)     3.0\n",
      "3     1274                     Akira (1988)     4.5\n",
      "4     1826  Barney's Great Adventure (1998)     5.0\n"
     ]
    }
   ],
   "source": [
    "inputId = movies_df[movies_df['title'].isin(inputMovies['title'].tolist())]\n",
    "inputMovies = pd.merge(inputId, inputMovies)\n",
    "inputMovies = inputMovies[['movieId','title','rating']]\n",
    "print(inputMovies)"
   ]
  },
  {
   "cell_type": "code",
   "execution_count": 5,
   "id": "c110b5fe",
   "metadata": {},
   "outputs": [
    {
     "name": "stdout",
     "output_type": "stream",
     "text": [
      "         userId  rating  timestamp\n",
      "movieId                           \n",
      "1           215     215        215\n",
      "2           110     110        110\n",
      "10          132     132        132\n",
      "1274         39      39         39\n",
      "1826          1       1          1\n"
     ]
    }
   ],
   "source": [
    "userSubset = ratings_df[ratings_df['movieId'].isin(inputMovies['movieId'].tolist())]\n",
    "print(userSubset.groupby('movieId').count())"
   ]
  },
  {
   "cell_type": "code",
   "execution_count": 6,
   "id": "2e87c9cc",
   "metadata": {},
   "outputs": [
    {
     "name": "stdout",
     "output_type": "stream",
     "text": [
      "[(91,        userId  movieId  rating   timestamp\n",
      "14121      91        1     4.0  1112713037\n",
      "14122      91        2     3.0  1112713392\n",
      "14125      91       10     3.5  1112713269\n",
      "14316      91     1274     5.0  1112713057), (219,        userId  movieId  rating   timestamp\n",
      "31524     219        1     3.5  1194681084\n",
      "31525     219        2     2.5  1194740185\n",
      "31527     219       10     4.5  1194932162\n",
      "31628     219     1274     2.5  1194686351), (274,        userId  movieId  rating   timestamp\n",
      "39229     274        1     4.0  1171410158\n",
      "39230     274        2     3.5  1171934785\n",
      "39233     274       10     4.0  1171428459\n",
      "39448     274     1274     4.0  1205707621), (414,        userId  movieId  rating  timestamp\n",
      "62294     414        1     4.0  961438127\n",
      "62295     414        2     3.0  961594981\n",
      "62301     414       10     3.0  961515863\n",
      "62769     414     1274     4.0  997200022), (434,        userId  movieId  rating   timestamp\n",
      "67080     434        1     4.0  1270604402\n",
      "67081     434        2     2.5  1271039378\n",
      "67083     434       10     3.5  1270606683\n",
      "67154     434     1274     5.0  1270605019)]\n"
     ]
    },
    {
     "name": "stderr",
     "output_type": "stream",
     "text": [
      "C:\\Users\\CARLO\\AppData\\Local\\Temp\\ipykernel_12900\\2911040200.py:10: FutureWarning: In a future version of pandas, a length 1 tuple will be returned when iterating over a groupby with a grouper equal to a list of length 1. Don't supply a list with a single grouper to avoid this warning.\n",
      "  userSubsetGroup = sorted(userSubsetGroup, key=take_5_elem, reverse=True)\n"
     ]
    }
   ],
   "source": [
    "#Groupby creates several sub dataframes where they all have the same value in the column specified as the parameter\n",
    "userSubsetGroup = userSubset.groupby(['userId'])\n",
    "\n",
    "def take_5_elem(x):\n",
    "    # print (len(x[1]))\n",
    "    return len(x[1])\n",
    "    \n",
    "\n",
    "#Sorting it so users with movie most in common with the input will have priority\n",
    "userSubsetGroup = sorted(userSubsetGroup, key=take_5_elem, reverse=True)\n",
    "\n",
    "userSubsetGroup = userSubsetGroup[0:100]\n",
    "print(userSubsetGroup[0:5])"
   ]
  },
  {
   "cell_type": "code",
   "execution_count": 7,
   "id": "51f6bea7",
   "metadata": {},
   "outputs": [],
   "source": [
    "#Store the Pearson Correlation in a dictionary, where the key is the user Id and the value is the coefficient\n",
    "pearsonCorrelationDict = {}\n",
    "\n",
    "#For every user group in our subset\n",
    "for name, group in userSubsetGroup:\n",
    "\n",
    "    #Let's start by sorting the input and current user group so the values aren't mixed up later on\n",
    "    group = group.sort_values(by='movieId')\n",
    "    inputMovies = inputMovies.sort_values(by='movieId')\n",
    "\n",
    "    #Get the N for the formula\n",
    "    nRatings = len(group)\n",
    "\n",
    "    #Get the review scores for the movies that they both have in common\n",
    "    temp_df = inputMovies[inputMovies['movieId'].isin(group['movieId'].tolist())]\n",
    "\n",
    "    #And then store them in a temporary buffer variable in a list format to facilitate future calculations\n",
    "    tempRatingList = temp_df['rating'].tolist()\n",
    "   \n",
    "    #Let's also put the current user group reviews in a list format\n",
    "    tempGroupList = group['rating'].tolist()\n",
    "   \n",
    "    \n",
    "    #Now let's calculate the pearson correlation between two users, so called, x and y manually (check the formula from week 7 slide)\n",
    "    Sxx = sum([i**2 for i in tempRatingList]) - pow(sum(tempRatingList),2)/float(nRatings)\n",
    "    Syy = sum([i**2 for i in tempGroupList]) - pow(sum(tempGroupList),2)/float(nRatings)\n",
    "    Sxy = sum( i*j for i, j in zip(tempRatingList, tempGroupList)) - sum(tempRatingList)*sum(tempGroupList)/float(nRatings)\n",
    "\n",
    "    #If the denominator is different than zero, then divide, else, 0 correlation.\n",
    "    if Sxx != 0 and Syy != 0:\n",
    "        pearsonCorrelationDict[name] = Sxy/sqrt(Sxx*Syy)\n",
    "    else:\n",
    "        pearsonCorrelationDict[name] = 0\n",
    "    "
   ]
  },
  {
   "cell_type": "code",
   "execution_count": 8,
   "id": "b558ccef",
   "metadata": {},
   "outputs": [
    {
     "name": "stdout",
     "output_type": "stream",
     "text": [
      "   similarityIndex  userId\n",
      "0         0.604611      91\n",
      "1        -0.204037     219\n",
      "2         0.279073     274\n",
      "3         0.096674     414\n",
      "4         0.563061     434\n"
     ]
    }
   ],
   "source": [
    "pearsonDF = pd.DataFrame.from_dict(pearsonCorrelationDict, orient='index')\n",
    "pearsonDF.columns = ['similarityIndex']\n",
    "pearsonDF['userId'] = pearsonDF.index\n",
    "pearsonDF.index = range(len(pearsonDF))\n",
    "print(pearsonDF.head())"
   ]
  },
  {
   "cell_type": "code",
   "execution_count": 9,
   "id": "2769f3e0",
   "metadata": {},
   "outputs": [
    {
     "name": "stdout",
     "output_type": "stream",
     "text": [
      "    similarityIndex  userId\n",
      "84              1.0     323\n",
      "13              1.0      82\n",
      "55              1.0      50\n",
      "60              1.0     107\n",
      "63              1.0     119\n"
     ]
    }
   ],
   "source": [
    "topUsers=pearsonDF.sort_values(by='similarityIndex', ascending=False)[0:50]\n",
    "print(topUsers.head())"
   ]
  },
  {
   "cell_type": "code",
   "execution_count": 10,
   "id": "d17bfe71",
   "metadata": {},
   "outputs": [
    {
     "name": "stdout",
     "output_type": "stream",
     "text": [
      "    similarityIndex  userId  movieId  rating   timestamp\n",
      "0               1.0     323        1     3.5  1422640363\n",
      "1               1.0     323        2     4.0  1422640110\n",
      "2               1.0     323       17     3.5  1422640288\n",
      "3               1.0     323       19     2.5  1422640116\n",
      "4               1.0     323       22     3.0  1422640551\n",
      "..              ...     ...      ...     ...         ...\n",
      "95              1.0     323   115617     3.5  1422640828\n",
      "96              1.0     323   116797     4.5  1422640799\n",
      "97              1.0     323   117176     4.0  1422640837\n",
      "98              1.0      82        1     2.5  1084467729\n",
      "99              1.0      82        2     3.0  1084465035\n",
      "\n",
      "[100 rows x 5 columns]\n"
     ]
    }
   ],
   "source": [
    "topUsersRating=topUsers.merge(ratings_df, left_on='userId', right_on='userId', how='inner')\n",
    "print(topUsersRating.head(100))"
   ]
  },
  {
   "cell_type": "code",
   "execution_count": 11,
   "id": "43fdabf1",
   "metadata": {},
   "outputs": [
    {
     "name": "stdout",
     "output_type": "stream",
     "text": [
      "   similarityIndex  userId  movieId  rating   timestamp  weightedRating\n",
      "0              1.0     323        1     3.5  1422640363             3.5\n",
      "1              1.0     323        2     4.0  1422640110             4.0\n",
      "2              1.0     323       17     3.5  1422640288             3.5\n",
      "3              1.0     323       19     2.5  1422640116             2.5\n",
      "4              1.0     323       22     3.0  1422640551             3.0\n"
     ]
    }
   ],
   "source": [
    "#Multiplies the similarity by the user’s ratings\n",
    "topUsersRating['weightedRating'] = topUsersRating['similarityIndex']*topUsersRating['rating']\n",
    "print(topUsersRating.head())"
   ]
  },
  {
   "cell_type": "code",
   "execution_count": 12,
   "id": "dfc2adc6",
   "metadata": {},
   "outputs": [
    {
     "name": "stdout",
     "output_type": "stream",
     "text": [
      "         sum_similarityIndex  sum_weightedRating\n",
      "movieId                                         \n",
      "1                  20.077929           64.451713\n",
      "2                  17.487628           58.622014\n",
      "3                   5.575288           13.655103\n",
      "4                   0.453921            0.680881\n",
      "5                   3.416620           11.060200\n"
     ]
    }
   ],
   "source": [
    "#Applies a sum to the topUsers after grouping it up by movieId\n",
    "tempTopUsersRating = topUsersRating.groupby('movieId').sum()[['similarityIndex','weightedRating']]\n",
    "tempTopUsersRating.columns = ['sum_similarityIndex','sum_weightedRating']\n",
    "print(tempTopUsersRating.head())"
   ]
  },
  {
   "cell_type": "code",
   "execution_count": 13,
   "id": "06922b83",
   "metadata": {},
   "outputs": [
    {
     "name": "stdout",
     "output_type": "stream",
     "text": [
      "         weighted average recommendation score  movieId\n",
      "movieId                                                \n",
      "1                                     3.210078        1\n",
      "2                                     3.352199        2\n",
      "3                                     2.449219        3\n",
      "4                                     1.500000        4\n",
      "5                                     3.237176        5\n",
      "6                                     4.084853        6\n",
      "7                                     2.530171        7\n",
      "8                                     3.000000        8\n",
      "9                                     1.500000        9\n",
      "10                                    3.952307       10\n"
     ]
    }
   ],
   "source": [
    "#Creates an empty dataframe\n",
    "recommendation_df = pd.DataFrame()\n",
    "\n",
    "#Now we take the weighted average\n",
    "recommendation_df['weighted average recommendation score'] = tempTopUsersRating['sum_weightedRating']/tempTopUsersRating['sum_similarityIndex']\n",
    "recommendation_df['movieId'] = tempTopUsersRating.index\n",
    "print(recommendation_df.head(10))"
   ]
  },
  {
   "cell_type": "code",
   "execution_count": 14,
   "id": "c5c28b1b",
   "metadata": {},
   "outputs": [
    {
     "name": "stdout",
     "output_type": "stream",
     "text": [
      "         weighted average recommendation score  movieId\n",
      "movieId                                                \n",
      "26073                                      5.0    26073\n",
      "3246                                       5.0     3246\n",
      "1111                                       5.0     1111\n",
      "6442                                       5.0     6442\n",
      "84273                                      5.0    84273\n",
      "...                                        ...      ...\n",
      "184253                                     NaN   184253\n",
      "184471                                     NaN   184471\n",
      "185029                                     NaN   185029\n",
      "185435                                     NaN   185435\n",
      "187593                                     NaN   187593\n",
      "\n",
      "[6151 rows x 2 columns]\n"
     ]
    }
   ],
   "source": [
    "recommendation_df = recommendation_df.sort_values(by='weighted average recommendation score', ascending=False)\n",
    "print(recommendation_df)"
   ]
  },
  {
   "cell_type": "code",
   "execution_count": 15,
   "id": "4bb3f338",
   "metadata": {},
   "outputs": [
    {
     "name": "stdout",
     "output_type": "stream",
     "text": [
      "      movieId                                  title  \\\n",
      "2           3                Grumpier Old Men (1995)   \n",
      "3           4               Waiting to Exhale (1995)   \n",
      "4           5     Father of the Bride Part II (1995)   \n",
      "5           6                            Heat (1995)   \n",
      "6           7                         Sabrina (1995)   \n",
      "...       ...                                    ...   \n",
      "9713   188301            Ant-Man and the Wasp (2018)   \n",
      "9714   188675                          Dogman (2018)   \n",
      "9717   188833  The Man Who Killed Don Quixote (2018)   \n",
      "9721   189381                        SuperFly (2018)   \n",
      "9724   190183               The Darkest Minds (2018)   \n",
      "\n",
      "                                      genres  \n",
      "2                             Comedy|Romance  \n",
      "3                       Comedy|Drama|Romance  \n",
      "4                                     Comedy  \n",
      "5                      Action|Crime|Thriller  \n",
      "6                             Comedy|Romance  \n",
      "...                                      ...  \n",
      "9713  Action|Adventure|Comedy|Fantasy|Sci-Fi  \n",
      "9714                             Crime|Drama  \n",
      "9717                Adventure|Comedy|Fantasy  \n",
      "9721                   Action|Crime|Thriller  \n",
      "9724                         Sci-Fi|Thriller  \n",
      "\n",
      "[6147 rows x 3 columns]\n"
     ]
    }
   ],
   "source": [
    "recommended_movie=movies_df.loc[movies_df['movieId'].isin(recommendation_df['movieId'])]\n",
    "\n",
    "#we don't want to recommend the same movie\n",
    "recommended_movie=recommended_movie.loc[~recommended_movie.movieId.isin(userSubset['movieId'])]\n",
    "\n",
    "print(recommended_movie)"
   ]
  },
  {
   "cell_type": "code",
   "execution_count": null,
   "id": "6468c4db",
   "metadata": {},
   "outputs": [],
   "source": []
  }
 ],
 "metadata": {
  "kernelspec": {
   "display_name": "Python 3 (ipykernel)",
   "language": "python",
   "name": "python3"
  },
  "language_info": {
   "codemirror_mode": {
    "name": "ipython",
    "version": 3
   },
   "file_extension": ".py",
   "mimetype": "text/x-python",
   "name": "python",
   "nbconvert_exporter": "python",
   "pygments_lexer": "ipython3",
   "version": "3.11.4"
  }
 },
 "nbformat": 4,
 "nbformat_minor": 5
}
